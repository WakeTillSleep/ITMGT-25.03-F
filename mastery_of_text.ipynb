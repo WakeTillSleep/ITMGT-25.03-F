{
 "cells": [
  {
   "cell_type": "code",
   "execution_count": 1,
   "id": "09afb5cd-3ae6-46dc-839e-530a93b448fb",
   "metadata": {},
   "outputs": [],
   "source": [
    "from urllib.request import urlopen\n",
    "\n",
    "url = \"https://www.gutenberg.org/cache/epub/10/pg10.txt\"\n",
    "response = urlopen(url)\n",
    "pg10 = response.read().decode(\"utf-8\")"
   ]
  },
  {
   "cell_type": "markdown",
   "id": "adb1028d-b2e8-4510-a01f-2663f3c83051",
   "metadata": {},
   "source": [
    "### Question 1: How many lines are in the text?"
   ]
  },
  {
   "cell_type": "code",
   "execution_count": 2,
   "id": "79fa7a57-f4e8-4480-8eb1-c97f8d9fa933",
   "metadata": {},
   "outputs": [
    {
     "name": "stdout",
     "output_type": "stream",
     "text": [
      "Number of lines: 99968\n"
     ]
    }
   ],
   "source": [
    "lines = pg10.splitlines()\n",
    "num_lines = len(lines)\n",
    "print(\"Number of lines:\", num_lines)"
   ]
  },
  {
   "cell_type": "markdown",
   "id": "6b937584-61a5-40c9-89ad-0c7c1925c806",
   "metadata": {},
   "source": [
    "### Question 2: How many words are in the text?"
   ]
  },
  {
   "cell_type": "code",
   "execution_count": 3,
   "id": "97813005-a2ac-4c90-bc21-36feb86d58be",
   "metadata": {},
   "outputs": [
    {
     "name": "stdout",
     "output_type": "stream",
     "text": [
      "Number of words: 795227\n"
     ]
    }
   ],
   "source": [
    "import re\n",
    "\n",
    "words = re.findall(r\"[a-zA-Z]+\", pg10)\n",
    "num_words = len(words)\n",
    "print(\"Number of words:\", num_words)"
   ]
  },
  {
   "cell_type": "markdown",
   "id": "d312a8c4-9242-4e52-8405-e2682ab36c14",
   "metadata": {},
   "source": [
    "### Question 3: How many times does the word \"apostle\" appear (case-insensitive)?"
   ]
  },
  {
   "cell_type": "code",
   "execution_count": 4,
   "id": "e6715726-9984-4456-b1a4-54e0364cc5b2",
   "metadata": {},
   "outputs": [
    {
     "name": "stdout",
     "output_type": "stream",
     "text": [
      "Occurrences of 'apostle': 47\n"
     ]
    }
   ],
   "source": [
    "apostle_count = len(re.findall(r\"\\bapostle\\b\", pg10, re.IGNORECASE))\n",
    "print(\"Occurrences of 'apostle':\", apostle_count)"
   ]
  },
  {
   "cell_type": "markdown",
   "id": "a9c7406c-4b30-491a-ae29-ec6f5a7786c6",
   "metadata": {},
   "source": [
    "### Question 4: What is the most common word (ignoring capitalization)?"
   ]
  },
  {
   "cell_type": "code",
   "execution_count": 5,
   "id": "003e7ace-bade-4cd0-ab27-b66aef5fb25e",
   "metadata": {},
   "outputs": [
    {
     "name": "stdout",
     "output_type": "stream",
     "text": [
      "Most common word: 'the' (64309 times)\n"
     ]
    }
   ],
   "source": [
    "from collections import Counter\n",
    "\n",
    "lower_words = [word.lower() for word in words]\n",
    "word_counts = Counter(lower_words)\n",
    "most_common_word, frequency = word_counts.most_common(1)[0]\n",
    "print(f\"Most common word: '{most_common_word}' ({frequency} times)\")"
   ]
  },
  {
   "cell_type": "code",
   "execution_count": null,
   "id": "db212fe2-16ef-43d9-9046-e7aa392b9915",
   "metadata": {},
   "outputs": [],
   "source": []
  }
 ],
 "metadata": {
  "kernelspec": {
   "display_name": "Python [conda env:base] *",
   "language": "python",
   "name": "conda-base-py"
  },
  "language_info": {
   "codemirror_mode": {
    "name": "ipython",
    "version": 3
   },
   "file_extension": ".py",
   "mimetype": "text/x-python",
   "name": "python",
   "nbconvert_exporter": "python",
   "pygments_lexer": "ipython3",
   "version": "3.12.7"
  }
 },
 "nbformat": 4,
 "nbformat_minor": 5
}
