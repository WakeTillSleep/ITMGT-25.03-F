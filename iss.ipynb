{
 "cells": [
  {
   "cell_type": "markdown",
   "id": "fcfc5e9e-2102-4dad-a702-41a6841e2ab1",
   "metadata": {},
   "source": [
    "1."
   ]
  },
  {
   "cell_type": "code",
   "execution_count": 1,
   "id": "3a5dea39-fc30-4d0a-99f9-13ec2707d7b3",
   "metadata": {},
   "outputs": [
    {
     "name": "stdout",
     "output_type": "stream",
     "text": [
      "Requirement already satisfied: requests in c:\\users\\lu\\anaconda3\\lib\\site-packages (2.32.3)\n",
      "Requirement already satisfied: matplotlib in c:\\users\\lu\\anaconda3\\lib\\site-packages (3.9.2)\n",
      "Requirement already satisfied: charset-normalizer<4,>=2 in c:\\users\\lu\\anaconda3\\lib\\site-packages (from requests) (3.3.2)\n",
      "Requirement already satisfied: idna<4,>=2.5 in c:\\users\\lu\\anaconda3\\lib\\site-packages (from requests) (3.7)\n",
      "Requirement already satisfied: urllib3<3,>=1.21.1 in c:\\users\\lu\\anaconda3\\lib\\site-packages (from requests) (2.2.3)\n",
      "Requirement already satisfied: certifi>=2017.4.17 in c:\\users\\lu\\anaconda3\\lib\\site-packages (from requests) (2025.4.26)\n",
      "Requirement already satisfied: contourpy>=1.0.1 in c:\\users\\lu\\anaconda3\\lib\\site-packages (from matplotlib) (1.2.0)\n",
      "Requirement already satisfied: cycler>=0.10 in c:\\users\\lu\\anaconda3\\lib\\site-packages (from matplotlib) (0.11.0)\n",
      "Requirement already satisfied: fonttools>=4.22.0 in c:\\users\\lu\\anaconda3\\lib\\site-packages (from matplotlib) (4.51.0)\n",
      "Requirement already satisfied: kiwisolver>=1.3.1 in c:\\users\\lu\\anaconda3\\lib\\site-packages (from matplotlib) (1.4.4)\n",
      "Requirement already satisfied: numpy>=1.23 in c:\\users\\lu\\anaconda3\\lib\\site-packages (from matplotlib) (1.26.4)\n",
      "Requirement already satisfied: packaging>=20.0 in c:\\users\\lu\\anaconda3\\lib\\site-packages (from matplotlib) (24.1)\n",
      "Requirement already satisfied: pillow>=8 in c:\\users\\lu\\anaconda3\\lib\\site-packages (from matplotlib) (10.4.0)\n",
      "Requirement already satisfied: pyparsing>=2.3.1 in c:\\users\\lu\\anaconda3\\lib\\site-packages (from matplotlib) (3.1.2)\n",
      "Requirement already satisfied: python-dateutil>=2.7 in c:\\users\\lu\\anaconda3\\lib\\site-packages (from matplotlib) (2.9.0.post0)\n",
      "Requirement already satisfied: six>=1.5 in c:\\users\\lu\\anaconda3\\lib\\site-packages (from python-dateutil>=2.7->matplotlib) (1.16.0)\n"
     ]
    }
   ],
   "source": [
    "!pip install requests matplotlib"
   ]
  },
  {
   "cell_type": "markdown",
   "id": "50919725-8ffb-4eef-ac8d-cd9b16a624af",
   "metadata": {},
   "source": [
    "2."
   ]
  },
  {
   "cell_type": "code",
   "execution_count": 2,
   "id": "e1d34060-3256-4623-9383-0e74c1dc7dda",
   "metadata": {},
   "outputs": [
    {
     "name": "stdout",
     "output_type": "stream",
     "text": [
      "1/100 Failed to collect data: HTTPConnectionPool(host='api.open-notify.org', port=80): Max retries exceeded with url: /iss-now.json (Caused by ConnectTimeoutError(<urllib3.connection.HTTPConnection object at 0x00000252E185D040>, 'Connection to api.open-notify.org timed out. (connect timeout=5)'))\n",
      "2/100 Data point collected.\n",
      "3/100 Data point collected.\n",
      "4/100 Data point collected.\n",
      "5/100 Data point collected.\n",
      "6/100 Failed to collect data: HTTPConnectionPool(host='api.open-notify.org', port=80): Max retries exceeded with url: /iss-now.json (Caused by ConnectTimeoutError(<urllib3.connection.HTTPConnection object at 0x00000252E2C96DB0>, 'Connection to api.open-notify.org timed out. (connect timeout=5)'))\n",
      "7/100 Data point collected.\n",
      "8/100 Data point collected.\n",
      "9/100 Failed to collect data: HTTPConnectionPool(host='api.open-notify.org', port=80): Max retries exceeded with url: /iss-now.json (Caused by ConnectTimeoutError(<urllib3.connection.HTTPConnection object at 0x00000252E2C97350>, 'Connection to api.open-notify.org timed out. (connect timeout=5)'))\n",
      "10/100 Data point collected.\n",
      "11/100 Failed to collect data: HTTPConnectionPool(host='api.open-notify.org', port=80): Max retries exceeded with url: /iss-now.json (Caused by ConnectTimeoutError(<urllib3.connection.HTTPConnection object at 0x00000252E2C96D20>, 'Connection to api.open-notify.org timed out. (connect timeout=5)'))\n",
      "12/100 Data point collected.\n",
      "13/100 Data point collected.\n",
      "14/100 Data point collected.\n",
      "15/100 Data point collected.\n",
      "16/100 Failed to collect data: HTTPConnectionPool(host='api.open-notify.org', port=80): Max retries exceeded with url: /iss-now.json (Caused by ConnectTimeoutError(<urllib3.connection.HTTPConnection object at 0x00000252E2CD4800>, 'Connection to api.open-notify.org timed out. (connect timeout=5)'))\n",
      "17/100 Data point collected.\n",
      "18/100 Data point collected.\n",
      "19/100 Data point collected.\n",
      "20/100 Data point collected.\n",
      "21/100 Data point collected.\n",
      "22/100 Data point collected.\n",
      "23/100 Data point collected.\n",
      "24/100 Data point collected.\n",
      "25/100 Data point collected.\n",
      "26/100 Data point collected.\n",
      "27/100 Failed to collect data: HTTPConnectionPool(host='api.open-notify.org', port=80): Max retries exceeded with url: /iss-now.json (Caused by ConnectTimeoutError(<urllib3.connection.HTTPConnection object at 0x00000252E2CD4BC0>, 'Connection to api.open-notify.org timed out. (connect timeout=5)'))\n",
      "28/100 Data point collected.\n",
      "29/100 Failed to collect data: HTTPConnectionPool(host='api.open-notify.org', port=80): Max retries exceeded with url: /iss-now.json (Caused by ConnectTimeoutError(<urllib3.connection.HTTPConnection object at 0x00000252E2C97050>, 'Connection to api.open-notify.org timed out. (connect timeout=5)'))\n",
      "30/100 Data point collected.\n",
      "31/100 Data point collected.\n",
      "32/100 Data point collected.\n",
      "33/100 Data point collected.\n",
      "34/100 Data point collected.\n",
      "35/100 Failed to collect data: ('Connection aborted.', ConnectionResetError(10054, 'An existing connection was forcibly closed by the remote host', None, 10054, None))\n",
      "36/100 Failed to collect data: HTTPConnectionPool(host='api.open-notify.org', port=80): Max retries exceeded with url: /iss-now.json (Caused by ConnectTimeoutError(<urllib3.connection.HTTPConnection object at 0x00000252E2CD4F50>, 'Connection to api.open-notify.org timed out. (connect timeout=5)'))\n",
      "37/100 Data point collected.\n",
      "38/100 Data point collected.\n",
      "39/100 Data point collected.\n",
      "40/100 Data point collected.\n",
      "41/100 Data point collected.\n",
      "42/100 Data point collected.\n",
      "43/100 Data point collected.\n",
      "44/100 Failed to collect data: HTTPConnectionPool(host='api.open-notify.org', port=80): Max retries exceeded with url: /iss-now.json (Caused by ConnectTimeoutError(<urllib3.connection.HTTPConnection object at 0x00000252E2CD55B0>, 'Connection to api.open-notify.org timed out. (connect timeout=5)'))\n",
      "45/100 Data point collected.\n",
      "46/100 Data point collected.\n",
      "47/100 Data point collected.\n",
      "48/100 Data point collected.\n",
      "49/100 Data point collected.\n",
      "50/100 Data point collected.\n",
      "51/100 Data point collected.\n",
      "52/100 Data point collected.\n",
      "53/100 Data point collected.\n",
      "54/100 Data point collected.\n",
      "55/100 Data point collected.\n",
      "56/100 Data point collected.\n",
      "57/100 Data point collected.\n",
      "58/100 Data point collected.\n",
      "59/100 Data point collected.\n",
      "60/100 Data point collected.\n",
      "61/100 Failed to collect data: HTTPConnectionPool(host='api.open-notify.org', port=80): Max retries exceeded with url: /iss-now.json (Caused by ConnectTimeoutError(<urllib3.connection.HTTPConnection object at 0x00000252E2CD4800>, 'Connection to api.open-notify.org timed out. (connect timeout=5)'))\n",
      "62/100 Data point collected.\n",
      "63/100 Data point collected.\n",
      "64/100 Data point collected.\n",
      "65/100 Data point collected.\n",
      "66/100 Data point collected.\n",
      "67/100 Data point collected.\n",
      "68/100 Data point collected.\n",
      "69/100 Data point collected.\n",
      "70/100 Data point collected.\n",
      "71/100 Data point collected.\n",
      "72/100 Data point collected.\n",
      "73/100 Data point collected.\n",
      "74/100 Data point collected.\n",
      "75/100 Data point collected.\n",
      "76/100 Data point collected.\n",
      "77/100 Data point collected.\n",
      "78/100 Data point collected.\n",
      "79/100 Data point collected.\n",
      "80/100 Data point collected.\n",
      "81/100 Data point collected.\n",
      "82/100 Data point collected.\n",
      "83/100 Data point collected.\n",
      "84/100 Failed to collect data: HTTPConnectionPool(host='api.open-notify.org', port=80): Max retries exceeded with url: /iss-now.json (Caused by ConnectTimeoutError(<urllib3.connection.HTTPConnection object at 0x00000252E2C96D50>, 'Connection to api.open-notify.org timed out. (connect timeout=5)'))\n",
      "85/100 Data point collected.\n",
      "86/100 Data point collected.\n",
      "87/100 Data point collected.\n",
      "88/100 Failed to collect data: HTTPConnectionPool(host='api.open-notify.org', port=80): Max retries exceeded with url: /iss-now.json (Caused by ConnectTimeoutError(<urllib3.connection.HTTPConnection object at 0x00000252E2C97110>, 'Connection to api.open-notify.org timed out. (connect timeout=5)'))\n",
      "89/100 Data point collected.\n",
      "90/100 Data point collected.\n",
      "91/100 Failed to collect data: HTTPConnectionPool(host='api.open-notify.org', port=80): Max retries exceeded with url: /iss-now.json (Caused by ConnectTimeoutError(<urllib3.connection.HTTPConnection object at 0x00000252E2CD51F0>, 'Connection to api.open-notify.org timed out. (connect timeout=5)'))\n",
      "92/100 Data point collected.\n",
      "93/100 Data point collected.\n",
      "94/100 Data point collected.\n",
      "95/100 Data point collected.\n",
      "96/100 Data point collected.\n",
      "97/100 Data point collected.\n",
      "98/100 Data point collected.\n",
      "99/100 Failed to collect data: HTTPConnectionPool(host='api.open-notify.org', port=80): Max retries exceeded with url: /iss-now.json (Caused by ConnectTimeoutError(<urllib3.connection.HTTPConnection object at 0x00000252E2CD66F0>, 'Connection to api.open-notify.org timed out. (connect timeout=5)'))\n",
      "100/100 Data point collected.\n"
     ]
    }
   ],
   "source": [
    "import requests\n",
    "import time\n",
    "\n",
    "iss_data = []\n",
    "\n",
    "for i in range(100):\n",
    "    try:\n",
    "        response = requests.get(\"http://api.open-notify.org/iss-now.json\", timeout=5)\n",
    "        response.raise_for_status()\n",
    "        data = response.json()\n",
    "\n",
    "        if 'iss_position' in data:\n",
    "            position = data['iss_position']\n",
    "            timestamp = data['timestamp']\n",
    "            iss_data.append({\n",
    "                'latitude': float(position['latitude']),\n",
    "                'longitude': float(position['longitude']),\n",
    "                'timestamp': timestamp\n",
    "            })\n",
    "            print(f\"{i+1}/100 Data point collected.\")\n",
    "        else:\n",
    "            print(f\"{i+1}/100 Unexpected data format. Skipping...\")\n",
    "\n",
    "    except Exception as e:\n",
    "        print(f\"{i+1}/100 Failed to collect data: {e}\")\n",
    "    \n",
    "    time.sleep(10)"
   ]
  },
  {
   "cell_type": "code",
   "execution_count": 3,
   "id": "cfc00cf7-45e8-40ee-8e29-2fb33b4f7396",
   "metadata": {},
   "outputs": [
    {
     "name": "stdout",
     "output_type": "stream",
     "text": [
      "Valid data points collected: 85\n"
     ]
    }
   ],
   "source": [
    "print(\"Valid data points collected:\", len(iss_data))"
   ]
  },
  {
   "cell_type": "code",
   "execution_count": 4,
   "id": "5678c7a5-aaca-4a89-b546-7807fec65d7b",
   "metadata": {},
   "outputs": [
    {
     "name": "stdout",
     "output_type": "stream",
     "text": [
      "Valid data point 86 collected.\n",
      "Valid data point 87 collected.\n",
      "Valid data point 88 collected.\n",
      "Valid data point 89 collected.\n",
      "Valid data point 90 collected.\n",
      "Valid data point 91 collected.\n",
      "Valid data point 92 collected.\n",
      "Valid data point 93 collected.\n",
      "Valid data point 94 collected.\n",
      "Failed to collect data: HTTPConnectionPool(host='api.open-notify.org', port=80): Max retries exceeded with url: /iss-now.json (Caused by ConnectTimeoutError(<urllib3.connection.HTTPConnection object at 0x00000252E2C97500>, 'Connection to api.open-notify.org timed out. (connect timeout=5)'))\n",
      "Valid data point 95 collected.\n",
      "Valid data point 96 collected.\n",
      "Valid data point 97 collected.\n",
      "Failed to collect data: HTTPConnectionPool(host='api.open-notify.org', port=80): Max retries exceeded with url: /iss-now.json (Caused by ConnectTimeoutError(<urllib3.connection.HTTPConnection object at 0x00000252E2C969C0>, 'Connection to api.open-notify.org timed out. (connect timeout=5)'))\n",
      "Valid data point 98 collected.\n",
      "Valid data point 99 collected.\n",
      "Valid data point 100 collected.\n",
      "Valid data point 101 collected.\n",
      "Valid data point 102 collected.\n",
      "Failed to collect data: HTTPConnectionPool(host='api.open-notify.org', port=80): Max retries exceeded with url: /iss-now.json (Caused by ConnectTimeoutError(<urllib3.connection.HTTPConnection object at 0x00000252E2CD5CA0>, 'Connection to api.open-notify.org timed out. (connect timeout=5)'))\n",
      "Valid data point 103 collected.\n",
      "Valid data point 104 collected.\n",
      "Failed to collect data: HTTPConnectionPool(host='api.open-notify.org', port=80): Max retries exceeded with url: /iss-now.json (Caused by ConnectTimeoutError(<urllib3.connection.HTTPConnection object at 0x00000252E2C96D80>, 'Connection to api.open-notify.org timed out. (connect timeout=5)'))\n",
      "Valid data point 105 collected.\n",
      "Valid data point 106 collected.\n"
     ]
    }
   ],
   "source": [
    "for i in range(25):\n",
    "    try:\n",
    "        response = requests.get(\"http://api.open-notify.org/iss-now.json\", timeout=5)\n",
    "        response.raise_for_status()\n",
    "        data = response.json()\n",
    "\n",
    "        if 'iss_position' in data:\n",
    "            position = data['iss_position']\n",
    "            timestamp = data['timestamp']\n",
    "            iss_data.append({\n",
    "                'latitude': float(position['latitude']),\n",
    "                'longitude': float(position['longitude']),\n",
    "                'timestamp': timestamp\n",
    "            })\n",
    "            print(f\"Valid data point {len(iss_data)} collected.\")\n",
    "        else:\n",
    "            print(\"Unexpected data format. Skipping...\")\n",
    "\n",
    "    except Exception as e:\n",
    "        print(f\"Failed to collect data: {e}\")\n",
    "    \n",
    "    time.sleep(10)"
   ]
  },
  {
   "cell_type": "code",
   "execution_count": 5,
   "id": "80ffdfd8-6f23-49d6-946b-77d25bac5e52",
   "metadata": {},
   "outputs": [
    {
     "name": "stdout",
     "output_type": "stream",
     "text": [
      "Valid data points collected: 106\n"
     ]
    }
   ],
   "source": [
    "print(\"Valid data points collected:\", len(iss_data))"
   ]
  },
  {
   "cell_type": "markdown",
   "id": "1e793e22-53a4-43e0-a2bb-686e77383287",
   "metadata": {},
   "source": [
    "3."
   ]
  },
  {
   "cell_type": "code",
   "execution_count": 6,
   "id": "b10a3569-b9d8-4b99-bde6-a5a14e707036",
   "metadata": {},
   "outputs": [
    {
     "data": {
      "image/png": "[encoded data removed]",
      "text/plain": [
       "<Figure size 1200x600 with 1 Axes>"
      ]
     },
     "metadata": {},
     "output_type": "display_data"
    }
   ],
   "source": [
    "import matplotlib.pyplot as plt\n",
    "\n",
    "lats = [point['latitude'] for point in iss_data]\n",
    "lons = [point['longitude'] for point in iss_data]\n",
    "\n",
    "plt.figure(figsize=(12, 6))\n",
    "plt.title('ISS Path Over Time')\n",
    "plt.xlabel('Longitude')\n",
    "plt.ylabel('Latitude')\n",
    "plt.plot(lons, lats, color='blue', marker='o', markersize=3, linewidth=1)\n",
    "plt.grid(True)\n",
    "plt.show()"
   ]
  }
 ],
 "metadata": {
  "kernelspec": {
   "display_name": "Python [conda env:base] *",
   "language": "python",
   "name": "conda-base-py"
  },
  "language_info": {
   "codemirror_mode": {
    "name": "ipython",
    "version": 3
   },
   "file_extension": ".py",
   "mimetype": "text/x-python",
   "name": "python",
   "nbconvert_exporter": "python",
   "pygments_lexer": "ipython3",
   "version": "3.12.7"
  }
 },
 "nbformat": 4,
 "nbformat_minor": 5
}
